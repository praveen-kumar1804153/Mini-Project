{
  "nbformat": 4,
  "nbformat_minor": 0,
  "metadata": {
    "colab": {
      "name": "ImageClassification.ipynb",
      "provenance": [],
      "collapsed_sections": [],
      "authorship_tag": "ABX9TyNA6mtlpYQXPNFxo4snlN1a",
      "include_colab_link": true
    },
    "kernelspec": {
      "name": "python3",
      "display_name": "Python 3"
    },
    "language_info": {
      "name": "python"
    }
  },
  "cells": [
    {
      "cell_type": "markdown",
      "metadata": {
        "id": "view-in-github",
        "colab_type": "text"
      },
      "source": [
        "<a href=\"https://colab.research.google.com/github/praveen-kumar1804153/mini-project/blob/main/ImageClassification.ipynb\" target=\"_parent\"><img src=\"https://colab.research.google.com/assets/colab-badge.svg\" alt=\"Open In Colab\"/></a>"
      ]
    },
    {
      "cell_type": "code",
      "metadata": {
        "id": "f-7RNHQg4jL_"
      },
      "source": [
        "#for finding execution time of one cell\n",
        "#!pip install ipython-autotime\n",
        "#%load_ext autotime"
      ],
      "execution_count": null,
      "outputs": []
    },
    {
      "cell_type": "code",
      "metadata": {
        "id": "4EzmicUp4lIF"
      },
      "source": [
        "#dataset:image form"
      ],
      "execution_count": null,
      "outputs": []
    },
    {
      "cell_type": "code",
      "metadata": {
        "colab": {
          "base_uri": "https://localhost:8080/"
        },
        "id": "IGIaC6274nX1",
        "outputId": "a62bb9e7-44d6-4e54-e443-50b5bd0fe4a3"
      },
      "source": [
        "!pip install bing_image_downloader"
      ],
      "execution_count": 2,
      "outputs": [
        {
          "output_type": "stream",
          "text": [
            "Collecting bing_image_downloader\n",
            "  Downloading https://files.pythonhosted.org/packages/2c/f9/e827c690d0df1ec2f2f27cf0fb3d1f944c5c56253f8d3750ccaff051b3d3/bing_image_downloader-1.1.0-py3-none-any.whl\n",
            "Installing collected packages: bing-image-downloader\n",
            "Successfully installed bing-image-downloader-1.1.0\n"
          ],
          "name": "stdout"
        }
      ]
    },
    {
      "cell_type": "code",
      "metadata": {
        "id": "toZx9Y0F4vm0"
      },
      "source": [
        "#creating directory as images in (file)\n",
        "!mkdir newimages"
      ],
      "execution_count": 3,
      "outputs": []
    },
    {
      "cell_type": "code",
      "metadata": {
        "colab": {
          "base_uri": "https://localhost:8080/"
        },
        "id": "Bb7tJZlF488C",
        "outputId": "fb04dfe0-7cf1-4f92-c217-996eedd1c67f"
      },
      "source": [
        "from bing_image_downloader import downloader\n",
        "downloader.download(\"pandas\",limit=50,output_dir='newimages', adult_filter_off=True) #pypip.org for this line"
      ],
      "execution_count": 7,
      "outputs": [
        {
          "output_type": "stream",
          "text": [
            "[%] Downloading Images to /content/newimages/pandas\n",
            "\n",
            "\n",
            "[!!]Indexing page: 1\n",
            "\n",
            "[%] Indexed 51 Images on Page 1.\n",
            "\n",
            "===============================================\n",
            "\n",
            "[%] Downloading Image #1 from https://www.rd.com/wp-content/uploads/2020/03/GettyImages-1060486568.jpg\n",
            "[%] File Downloaded !\n",
            "\n",
            "[%] Downloading Image #2 from https://www.rd.com/wp-content/uploads/2019/08/shutterstock_72855833.jpg\n",
            "[%] File Downloaded !\n",
            "\n",
            "[%] Downloading Image #3 from https://cdnmundo1.img.sputniknews.com/img/108598/41/1085984188_0:0:4573:2585_1920x0_80_0_0_0d033942dcf8cd5659d32fda1370acd8.jpg\n",
            "[%] File Downloaded !\n",
            "\n",
            "[%] Downloading Image #4 from https://usercontent1.hubstatic.com/2057378_f520.jpg\n",
            "[%] File Downloaded !\n",
            "\n",
            "[%] Downloading Image #5 from https://i.natgeofe.com/k/63b1a8a7-0081-493e-8b53-81d01261ab5d/red-panda-full-body.jpg?w=1200\n",
            "[%] File Downloaded !\n",
            "\n",
            "[%] Downloading Image #6 from https://i.pinimg.com/originals/0f/bb/c4/0fbbc4ae4f0f7a741f844b3889ec845f.gif\n",
            "[%] File Downloaded !\n",
            "\n",
            "[%] Downloading Image #7 from https://www.bing.com/th/id/OGC.b1071859c08aa11c6f1cbc172f16c525?pid=1.7&amp;rurl=https%3a%2f%2fi.pinimg.com%2foriginals%2f0f%2fbb%2fc4%2f0fbbc4ae4f0f7a741f844b3889ec845f.gif&amp;ehk=oPuMFIDQq8gSQ8V%2fb1qqEmrmKT7BZv9j%2bxcHDhRvILk%3d\n",
            "[!] Issue getting: https://www.bing.com/th/id/OGC.b1071859c08aa11c6f1cbc172f16c525?pid=1.7&amp;rurl=https%3a%2f%2fi.pinimg.com%2foriginals%2f0f%2fbb%2fc4%2f0fbbc4ae4f0f7a741f844b3889ec845f.gif&amp;ehk=oPuMFIDQq8gSQ8V%2fb1qqEmrmKT7BZv9j%2bxcHDhRvILk%3d\n",
            "[!] Error:: HTTP Error 404: Not Found\n",
            "[%] Downloading Image #7 from https://i.pinimg.com/originals/bc/a8/85/bca8853f0ced303bdcfe49dfe53bf5a7.jpg\n",
            "[%] File Downloaded !\n",
            "\n",
            "[%] Downloading Image #8 from http://3.bp.blogspot.com/-wDZ1e-w7mFc/VeL6G0mCWJI/AAAAAAAASto/53LIc_1Hjjw/s1600/these-red-pandas-will-remind-you-what-true-happiness-looks-like.jpg\n",
            "[%] File Downloaded !\n",
            "\n",
            "[%] Downloading Image #9 from http://www.todayifoundout.com/wp-content/uploads/2017/05/panda.png\n",
            "[%] File Downloaded !\n",
            "\n",
            "[%] Downloading Image #10 from https://pixfeeds.com/images/animals/bears/1280-471685019-giant-panda.jpg\n",
            "[%] File Downloaded !\n",
            "\n",
            "[%] Downloading Image #11 from https://images2.minutemediacdn.com/image/upload/c_fit,f_auto,fl_lossy,q_auto,w_728/v1555464273/shape/mentalfloss/63578-istock-172300579.jpg?itok=xenidHEA\n",
            "[%] File Downloaded !\n",
            "\n",
            "[%] Downloading Image #12 from https://www.rd.com/wp-content/uploads/2018/04/shutterstock_393297868-760x506.jpg\n",
            "[%] File Downloaded !\n",
            "\n",
            "[%] Downloading Image #13 from https://i.ytimg.com/vi/YS95Ov6OfOs/maxresdefault.jpg\n",
            "[%] File Downloaded !\n",
            "\n",
            "[%] Downloading Image #14 from https://thisistrue.com/wp-content/uploads/china-pandas.jpg\n",
            "[%] File Downloaded !\n",
            "\n",
            "[%] Downloading Image #15 from https://i1.wp.com/meowlogy.com/wp-content/uploads/2018/02/16Red-Panda-.jpg?resize=600%2C460&amp;ssl=1\n",
            "[%] File Downloaded !\n",
            "\n",
            "[%] Downloading Image #16 from https://4.bp.blogspot.com/-ZCt4RYnro6s/T3gDPAakMkI/AAAAAAAAAI0/tm9OrBW4qtc/s1600/DSCN0650.JPG\n",
            "[%] File Downloaded !\n",
            "\n",
            "[%] Downloading Image #17 from http://d1dd4ethwnlwo2.cloudfront.net/wp-content/uploads/2016/02/CS-Panda-Recovery1.jpg\n",
            "[%] File Downloaded !\n",
            "\n",
            "[%] Downloading Image #18 from https://i0.wp.com/dromoman.wordpress.com/files/2008/08/img_3272.jpg\n",
            "[%] File Downloaded !\n",
            "\n",
            "[%] Downloading Image #19 from https://img.buzzfeed.com/buzzfeed-static/static/2015-02/20/16/campaign_images/webdr07/these-red-pandas-will-remind-you-what-true-happin-2-14268-1424466927-22_dblbig.jpg\n",
            "[%] File Downloaded !\n",
            "\n",
            "[%] Downloading Image #20 from http://animalroll.com/wp-content/uploads/2017/04/shutterstock_60568306-e1493077947629.jpg\n",
            "[%] File Downloaded !\n",
            "\n",
            "[%] Downloading Image #21 from http://gossipsloth.com/contentImages/Smaller-84d0e75e05f89fbf94b4e3e2a2724fec.jpeg\n",
            "[%] File Downloaded !\n",
            "\n",
            "[%] Downloading Image #22 from http://images.dailyhive.com/20180202085332/DSOYrW5UQAAY21X.jpg\n",
            "[%] File Downloaded !\n",
            "\n",
            "[%] Downloading Image #23 from https://www.thesmilecenter.com/wp-content/uploads/2014/11/iStock_000021172842Small.jpg\n",
            "[%] File Downloaded !\n",
            "\n",
            "[%] Downloading Image #24 from https://pixfeeds.com/images/animals/bears/1280-501849818-giant-panda-eating-bamboo.jpg\n",
            "[%] File Downloaded !\n",
            "\n",
            "[%] Downloading Image #25 from https://i.pinimg.com/originals/07/2a/5b/072a5bcb2a7aec7dc6f8249f969a98c3.jpg\n",
            "[%] File Downloaded !\n",
            "\n",
            "[%] Downloading Image #26 from https://i.pinimg.com/originals/53/35/d3/5335d329dd39d2c54206228d0d6957a1.jpg\n",
            "[%] File Downloaded !\n",
            "\n",
            "[%] Downloading Image #27 from https://www.mommymusings.com/wp-content/uploads/2017/06/panda2.jpg\n",
            "[%] File Downloaded !\n",
            "\n",
            "[%] Downloading Image #28 from https://www.maridentours.com/tiny_uploads/tours/70-1378564924-carousel.jpg\n",
            "[%] File Downloaded !\n",
            "\n",
            "[%] Downloading Image #29 from https://www.660citynews.com/wp-content/blogs.dir/sites/8/2018/10/12/calgary-zoo-pandas.jpg\n",
            "[!] Issue getting: https://www.660citynews.com/wp-content/blogs.dir/sites/8/2018/10/12/calgary-zoo-pandas.jpg\n",
            "[!] Error:: HTTP Error 403: Forbidden\n",
            "[%] Downloading Image #29 from http://3.bp.blogspot.com/-8lLBmEXjHdg/TyejLy49gEI/AAAAAAAAAZ8/71gCa0UVuy0/s1600/panda02.jpg\n",
            "[%] File Downloaded !\n",
            "\n",
            "[%] Downloading Image #30 from https://www.thestar.com/content/dam/thestar/news/insight/2013/04/19/why_do_we_bother_saving_the_pandas/giant_panda_1.jpg.size.custom.crop.1086x683.jpg\n",
            "[%] File Downloaded !\n",
            "\n",
            "[%] Downloading Image #31 from https://www.rd.com/wp-content/uploads/2018/04/shutterstock_688280269.jpg\n",
            "[%] File Downloaded !\n",
            "\n",
            "[%] Downloading Image #32 from http://images.china.cn/attachement/jpg/site1007/20120327/001422373e1910db6a4032.jpg\n",
            "[%] File Downloaded !\n",
            "\n",
            "[%] Downloading Image #33 from https://i0.wp.com/kidzfeed.com/wp-content/uploads/2017/08/Giant-panda-facts-for-kids.jpg.jpg?resize=640%2C426&amp;ssl=1\n",
            "[%] File Downloaded !\n",
            "\n",
            "[%] Downloading Image #34 from https://i.ytimg.com/vi/91vh8RU_Ymk/maxresdefault.jpg\n",
            "[%] File Downloaded !\n",
            "\n",
            "[%] Downloading Image #35 from http://3.bp.blogspot.com/-n0-n5X7OJX4/TrhroDLePLI/AAAAAAAADOQ/weMhH_YI7jY/s1600/panda0001.jpg\n",
            "[%] File Downloaded !\n",
            "\n",
            "[%] Downloading Image #36 from https://s3.amazonaws.com/files.activate.social/user-image-32903291-1576240549-5df385a5aa252\n",
            "[%] File Downloaded !\n",
            "\n",
            "[%] Downloading Image #37 from http://www.techietonics.com/wp-content/uploads/2014/03/panda-have-liking-for-sweet-food.jpg\n",
            "[%] File Downloaded !\n",
            "\n",
            "[%] Downloading Image #38 from https://ychef.files.bbci.co.uk/976x549/p079fdcz.jpg\n",
            "[Error]Invalid image, not saving https://ychef.files.bbci.co.uk/976x549/p079fdcz.jpg\n",
            "\n",
            "[!] Issue getting: https://ychef.files.bbci.co.uk/976x549/p079fdcz.jpg\n",
            "[!] Error:: Invalid image, not saving https://ychef.files.bbci.co.uk/976x549/p079fdcz.jpg\n",
            "\n",
            "[%] Downloading Image #38 from https://s30394.pcdn.co/wp-content/uploads/2017/05/pandas-chengdu-sleeping.jpg\n",
            "[%] File Downloaded !\n",
            "\n",
            "[%] Downloading Image #39 from https://assets3.thrillist.com/v1/image/2530651/size/tmg-article_tall;jpeg_quality=20.jpg\n",
            "[%] File Downloaded !\n",
            "\n",
            "[%] Downloading Image #40 from https://www.khaosodenglish.com/wp-content/uploads/2020/02/S__1005511-4.jpg\n",
            "[%] File Downloaded !\n",
            "\n",
            "[%] Downloading Image #41 from http://australiangeographic.com.au/wp-content/uploads/2018/06/panda-leaves.jpg\n",
            "[%] File Downloaded !\n",
            "\n",
            "[%] Downloading Image #42 from http://redpandaprojectt.weebly.com/uploads/4/0/1/8/40186135/8931117_orig.jpg\n",
            "[%] File Downloaded !\n",
            "\n",
            "[%] Downloading Image #43 from https://image.apost.com/media/bloglist-image/2020/07/08/11/c182ae14244f62776276690d6c3bbcbb.jpg\n",
            "[%] File Downloaded !\n",
            "\n",
            "[%] Downloading Image #44 from https://thefunnybeavercomd030b.zapwp.com/q:intelligent/retina:false/webp:false/w:974/url:https://thefunnybeaver.com/wp-content/uploads/2018/03/Screen-Shot-2018-03-11-at-8.52.19-PM.jpg\n",
            "[%] File Downloaded !\n",
            "\n",
            "[%] Downloading Image #45 from https://qph.fs.quoracdn.net/main-qimg-317fb5268afe6e1ac6514b6b57de1887\n",
            "[%] File Downloaded !\n",
            "\n",
            "[%] Downloading Image #46 from https://i.pinimg.com/originals/b5/89/b5/b589b561f1b743ce045a6ad6c978f3dc.jpg\n",
            "[%] File Downloaded !\n",
            "\n",
            "[%] Downloading Image #47 from https://i.pinimg.com/736x/e5/09/d6/e509d6126e8ab8df3a39daa58a10f649.jpg\n",
            "[%] File Downloaded !\n",
            "\n",
            "[%] Downloading Image #48 from https://cdn.weasyl.com/static/media/68/b3/05/68b305cb1fbe43aa49c6f7f488ac0a77f299326d2a077b96c7f87fac51dd457a.jpg\n",
            "[!] Issue getting: https://cdn.weasyl.com/static/media/68/b3/05/68b305cb1fbe43aa49c6f7f488ac0a77f299326d2a077b96c7f87fac51dd457a.jpg\n",
            "[!] Error:: HTTP Error 522: \n",
            "\n",
            "\n",
            "[!!]Indexing page: 2\n",
            "\n",
            "[%] Indexed 36 Images on Page 2.\n",
            "\n",
            "===============================================\n",
            "\n",
            "[%] Downloading Image #48 from https://www.rd.com/wp-content/uploads/2020/03/GettyImages-1060486568.jpg\n",
            "[%] File Downloaded !\n",
            "\n",
            "[%] Downloading Image #49 from https://www.rd.com/wp-content/uploads/2019/08/shutterstock_72855833.jpg\n",
            "[%] File Downloaded !\n",
            "\n",
            "[%] Downloading Image #50 from https://cdnmundo1.img.sputniknews.com/img/108598/41/1085984188_0:0:4573:2585_1920x0_80_0_0_0d033942dcf8cd5659d32fda1370acd8.jpg\n",
            "[%] File Downloaded !\n",
            "\n",
            "\n",
            "\n",
            "[%] Done. Downloaded 50 images.\n",
            "===============================================\n",
            "\n",
            "Please show your support here\n",
            "https://www.buymeacoffee.com/gurugaurav\n",
            "\n",
            "===============================================\n",
            "\n"
          ],
          "name": "stdout"
        }
      ]
    },
    {
      "cell_type": "code",
      "metadata": {
        "colab": {
          "base_uri": "https://localhost:8080/"
        },
        "id": "AFUiKS3u5Wvr",
        "outputId": "6c588d2b-a65d-4131-f208-e9b8134fda62"
      },
      "source": [
        "from bing_image_downloader import downloader\n",
        "downloader.download(\"motor bikes\",limit=50,output_dir='newimages', adult_filter_off=True) #pypip.org for this line"
      ],
      "execution_count": 8,
      "outputs": [
        {
          "output_type": "stream",
          "text": [
            "[%] Downloading Images to /content/newimages/motor bikes\n",
            "\n",
            "\n",
            "[!!]Indexing page: 1\n",
            "\n",
            "[%] Indexed 51 Images on Page 1.\n",
            "\n",
            "===============================================\n",
            "\n",
            "[%] Downloading Image #1 from https://i.pinimg.com/originals/6d/38/05/6d3805bf290a90de10957cf4242aae98.jpg\n",
            "[%] File Downloaded !\n",
            "\n",
            "[%] Downloading Image #2 from https://i.pinimg.com/originals/de/36/ee/de36eeb0c9c061a89bbfb9492e47c346.jpg\n",
            "[%] File Downloaded !\n",
            "\n",
            "[%] Downloading Image #3 from https://i.pinimg.com/originals/f9/f2/f2/f9f2f2d42c087751f03cb3d99b70c004.gif\n",
            "[%] File Downloaded !\n",
            "\n",
            "[%] Downloading Image #4 from https://www.bing.com/th/id/OGC.041828fdba39d72a1215f8cb90d2fd95?pid=1.7&amp;rurl=https%3a%2f%2fi.pinimg.com%2foriginals%2ff9%2ff2%2ff2%2ff9f2f2d42c087751f03cb3d99b70c004.gif&amp;ehk=WfqnWW4G8e%2fEBWPFQtJb6ppY%2bXu4JwAWeWWIueSVKJQ%3d\n",
            "[!] Issue getting: https://www.bing.com/th/id/OGC.041828fdba39d72a1215f8cb90d2fd95?pid=1.7&amp;rurl=https%3a%2f%2fi.pinimg.com%2foriginals%2ff9%2ff2%2ff2%2ff9f2f2d42c087751f03cb3d99b70c004.gif&amp;ehk=WfqnWW4G8e%2fEBWPFQtJb6ppY%2bXu4JwAWeWWIueSVKJQ%3d\n",
            "[!] Error:: HTTP Error 404: Not Found\n",
            "[%] Downloading Image #4 from https://i.pinimg.com/originals/d5/c2/e5/d5c2e5b4e0e3faa0998729b124ab1f52.jpg\n",
            "[%] File Downloaded !\n",
            "\n",
            "[%] Downloading Image #5 from https://lh6.googleusercontent.com/proxy/KcnunSv5h69l0pByQJ6nhEKfME3cS9nSeSIHixdx4ksxueUh0weI3tCt6rRu6cC7KXhrF7kM_WDD_mkXCIyYGidRMin6mG57MgBH=s0-d\n",
            "[%] File Downloaded !\n",
            "\n",
            "[%] Downloading Image #6 from https://i.pinimg.com/originals/3c/7c/37/3c7c3789a297df5c18b63b3293e05614.jpg\n",
            "[%] File Downloaded !\n",
            "\n",
            "[%] Downloading Image #7 from https://i.pinimg.com/originals/35/f0/06/35f0065953753741d3ff40c177031e56.jpg\n",
            "[%] File Downloaded !\n",
            "\n",
            "[%] Downloading Image #8 from https://i.pinimg.com/originals/04/33/7f/04337fe3b6266027561afc47daa9fad7.jpg\n",
            "[%] File Downloaded !\n",
            "\n",
            "[%] Downloading Image #9 from http://img98.imageshack.us/img98/2167/bmwr9061974.jpg\n",
            "[%] File Downloaded !\n",
            "\n",
            "[%] Downloading Image #10 from https://dirtbikeplanet.com/wp-content/uploads/2017/08/IMG_4444.jpg\n",
            "[%] File Downloaded !\n",
            "\n",
            "[%] Downloading Image #11 from https://i.pinimg.com/originals/ee/8e/92/ee8e9241d72a76f9e72ddff6849728d1.jpg\n",
            "[%] File Downloaded !\n",
            "\n",
            "[%] Downloading Image #12 from https://i.pinimg.com/originals/d8/ca/7a/d8ca7a6046cb9f129d5217de735c4ae6.jpg\n",
            "[%] File Downloaded !\n",
            "\n",
            "[%] Downloading Image #13 from https://i.pinimg.com/originals/38/c1/6b/38c16be19673826878f2c4fe0b5a1f11.jpg\n",
            "[%] File Downloaded !\n",
            "\n",
            "[%] Downloading Image #14 from http://www.motorbikesindia.com/wp-content/uploads/2016/08/ten-beautiful-motorbikes-india.jpg\n",
            "[%] File Downloaded !\n",
            "\n",
            "[%] Downloading Image #15 from https://i.pinimg.com/736x/e5/f4/4e/e5f44e76163a9c8411a22af40acafb0d.jpg\n",
            "[%] File Downloaded !\n",
            "\n",
            "[%] Downloading Image #16 from https://i.pinimg.com/originals/47/91/ee/4791eee70ac6a4827336752f6710369c.jpg\n",
            "[%] File Downloaded !\n",
            "\n",
            "[%] Downloading Image #17 from http://www.asphaltandrubber.com/wp-content/uploads/2015/11/Honda-Six50-Concept-01.jpg\n",
            "[%] File Downloaded !\n",
            "\n",
            "[%] Downloading Image #18 from http://img683.imageshack.us/img683/1755/bmwr75519692.jpg\n",
            "[%] File Downloaded !\n",
            "\n",
            "[%] Downloading Image #19 from https://i.pinimg.com/originals/ee/16/2b/ee162b6a877a5668c54b0a80b924d257.jpg\n",
            "[%] File Downloaded !\n",
            "\n",
            "[%] Downloading Image #20 from https://classic-motorbikes.net/wp-content/uploads/2012/08/Yamaha-FJ1200-Static-037.jpg\n",
            "[%] File Downloaded !\n",
            "\n",
            "[%] Downloading Image #21 from https://opimedia.azureedge.net/-/media/images/mcc/editorial/articles/magazine-articles/2007/05-01/owning-and-collecting-classic-bmw-motorcycles/bmwscene71.jpg\n",
            "[%] File Downloaded !\n",
            "\n",
            "[%] Downloading Image #22 from https://2.bp.blogspot.com/-o-aYDUH37DQ/V2sbsOsHQYI/AAAAAAACZOs/j2LVrCUXddIQcwerK4MWvjf4qMKvIveFQCLcB/s1600/Avinton%2BCollector%2BRace%2BR.jpg\n",
            "[%] File Downloaded !\n",
            "\n",
            "[%] Downloading Image #23 from https://i.pinimg.com/originals/13/ac/dd/13acdd76cf0afcbef5568fc8f53dd96b.jpg\n",
            "[%] File Downloaded !\n",
            "\n",
            "[%] Downloading Image #24 from https://i.pinimg.com/originals/34/13/88/3413886840c3c6abb4b70272f8b8945e.jpg\n",
            "[%] File Downloaded !\n",
            "\n",
            "[%] Downloading Image #25 from https://i.pinimg.com/originals/21/9b/a7/219ba7661db4c2d240195f4162776aa0.jpg\n",
            "[%] File Downloaded !\n",
            "\n",
            "[%] Downloading Image #26 from https://i.pinimg.com/originals/72/c8/62/72c8625a857a10c122e6615702e654f7.jpg\n",
            "[%] File Downloaded !\n",
            "\n",
            "[%] Downloading Image #27 from https://i.pinimg.com/originals/a2/3a/1c/a23a1c62b57f469e92bfe871a7ae273f.jpg\n",
            "[%] File Downloaded !\n",
            "\n",
            "[%] Downloading Image #28 from https://www.tigitmotorbikes.com/wp-content/uploads/2016/05/Yamaha-NVX.jpg\n",
            "[%] File Downloaded !\n",
            "\n",
            "[%] Downloading Image #29 from https://i.pinimg.com/736x/ba/b5/7c/bab57cb57e54dfa91305be2c485aafc1.jpg\n",
            "[%] File Downloaded !\n",
            "\n",
            "[%] Downloading Image #30 from https://i.pinimg.com/originals/8c/5f/d4/8c5fd4a660ed61c0dd6ad3708687826a.jpg\n",
            "[%] File Downloaded !\n",
            "\n",
            "[%] Downloading Image #31 from https://webuyanybike.com/blog/we-buy-motorbikes/assets/images/bikes/Yamaha R6 - webuyanybike - we buy any bike - sell motorbike - sell my bike.jpg\n",
            "[!] Issue getting: https://webuyanybike.com/blog/we-buy-motorbikes/assets/images/bikes/Yamaha R6 - webuyanybike - we buy any bike - sell motorbike - sell my bike.jpg\n",
            "[!] Error:: URL can't contain control characters. '/blog/we-buy-motorbikes/assets/images/bikes/Yamaha R6 - webuyanybike - we buy any bike - sell motorbike - sell my bike.jpg' (found at least ' ')\n",
            "[%] Downloading Image #31 from https://i.pinimg.com/originals/3e/f3/13/3ef31391923fe5776a34c21ecd15cb16.jpg\n",
            "[%] File Downloaded !\n",
            "\n",
            "[%] Downloading Image #32 from https://s-media-cache-ak0.pinimg.com/736x/55/09/cd/5509cdcefad77bffff650c3d0c196e7c.jpg\n",
            "[%] File Downloaded !\n",
            "\n",
            "[%] Downloading Image #33 from https://i.pinimg.com/originals/d0/ec/57/d0ec57925dc9305aa1ca80053195f6af.jpg\n",
            "[%] File Downloaded !\n",
            "\n",
            "[%] Downloading Image #34 from http://ritholtz.com/wp-content/uploads/2017/04/17389058_794256280725843_5343305941037627303_o.png\n",
            "[%] File Downloaded !\n",
            "\n",
            "[%] Downloading Image #35 from https://i.pinimg.com/originals/fa/cb/f7/facbf745fba68aa4e2c2cd82b2d105e0.jpg\n",
            "[%] File Downloaded !\n",
            "\n",
            "[%] Downloading Image #36 from https://i.pinimg.com/originals/d0/8b/87/d08b873eeebc9e94271cd7aee4835b93.jpg\n",
            "[%] File Downloaded !\n",
            "\n",
            "[%] Downloading Image #37 from http://www.customwizard.com/admin1/image/563316793a.jpg\n",
            "[%] File Downloaded !\n",
            "\n",
            "[%] Downloading Image #38 from https://i.pinimg.com/originals/fe/0b/1d/fe0b1d7ce4fc5dbb8a549337a06909ec.jpg\n",
            "[%] File Downloaded !\n",
            "\n",
            "[%] Downloading Image #39 from https://i.pinimg.com/originals/a2/d4/8b/a2d48b767739c021b0490623955e456c.jpg\n",
            "[%] File Downloaded !\n",
            "\n",
            "[%] Downloading Image #40 from https://i.pinimg.com/originals/94/9a/63/949a6304a43ec6ba064dee7de936a93f.jpg\n",
            "[%] File Downloaded !\n",
            "\n",
            "[%] Downloading Image #41 from http://ledmain.com/wp-content/uploads/2017/07/motorbike-dangerous.jpg\n",
            "[%] File Downloaded !\n",
            "\n",
            "[%] Downloading Image #42 from http://keyassets.timeincuk.net/inspirewp/live/wp-content/uploads/sites/11/2018/01/14494704-1163305910406466-1029329482064192378-n.jpg\n",
            "[%] File Downloaded !\n",
            "\n",
            "[%] Downloading Image #43 from http://www.classic-motorbikes.com/wp-content/uploads/2015/07/Yamaha-FZR750R-1992-FF39-10.jpg\n",
            "[%] File Downloaded !\n",
            "\n",
            "[%] Downloading Image #44 from https://engineered.thyssenkrupp.com/wp/wp-content/uploads/2019/07/190725_twitter_CarbonComponents.jpg\n",
            "[%] File Downloaded !\n",
            "\n",
            "[%] Downloading Image #45 from http://s3.amazonaws.com/nikeinc/assets/70405/Nike_BIKETOWN_BETRUE_grey_DET03_native_1600.jpg?1496338393\n",
            "[%] File Downloaded !\n",
            "\n",
            "[%] Downloading Image #46 from https://i.pinimg.com/736x/1e/e2/1e/1ee21e395725378bd6dcbce989a59cd4.jpg\n",
            "[%] File Downloaded !\n",
            "\n",
            "[%] Downloading Image #47 from http://oko.com/wp-content/uploads/2013/11/MotorcyclesQuadsPage.jpg\n",
            "[%] File Downloaded !\n",
            "\n",
            "[%] Downloading Image #48 from https://i.pinimg.com/originals/9e/25/bd/9e25bd2ed43b9625d98bf60048d802b2.jpg\n",
            "[%] File Downloaded !\n",
            "\n",
            "[%] Downloading Image #49 from http://s3.amazonaws.com/nikeinc/assets/70400/Nike_BIKETOWN_BETRUE_wht_HERO_main_native_1600.jpg?1496338339\n",
            "[%] File Downloaded !\n",
            "\n",
            "\n",
            "\n",
            "[!!]Indexing page: 2\n",
            "\n",
            "[%] Indexed 36 Images on Page 2.\n",
            "\n",
            "===============================================\n",
            "\n",
            "[%] Downloading Image #50 from https://i.pinimg.com/originals/6d/38/05/6d3805bf290a90de10957cf4242aae98.jpg\n",
            "[%] File Downloaded !\n",
            "\n",
            "\n",
            "\n",
            "[%] Done. Downloaded 50 images.\n",
            "===============================================\n",
            "\n",
            "Please show your support here\n",
            "https://www.buymeacoffee.com/gurugaurav\n",
            "\n",
            "===============================================\n",
            "\n"
          ],
          "name": "stdout"
        }
      ]
    },
    {
      "cell_type": "code",
      "metadata": {
        "colab": {
          "base_uri": "https://localhost:8080/"
        },
        "id": "-Q2cjwDQ5mje",
        "outputId": "5c87467c-8109-4ebd-9278-c51cec82310c"
      },
      "source": [
        "from bing_image_downloader import downloader\n",
        "downloader.download(\"beaches\",limit=50,output_dir='newimages', adult_filter_off=True) #pypip.org for this line"
      ],
      "execution_count": 9,
      "outputs": [
        {
          "output_type": "stream",
          "text": [
            "[%] Downloading Images to /content/newimages/beaches\n",
            "\n",
            "\n",
            "[!!]Indexing page: 1\n",
            "\n",
            "[%] Indexed 50 Images on Page 1.\n",
            "\n",
            "===============================================\n",
            "\n",
            "[%] Downloading Image #1 from https://travel.mqcdn.com/mapquest/travel/wp-content/uploads/2020/05/GettyImages-908005642.jpg\n",
            "[%] File Downloaded !\n",
            "\n",
            "[%] Downloading Image #2 from https://www.rd.com/wp-content/uploads/2020/04/hanauma-bay-on-the-island-of-o-ahu-in-the-united-states-of-america.jpg\n",
            "[%] File Downloaded !\n",
            "\n",
            "[%] Downloading Image #3 from https://lp-cms-production.imgix.net/features/2015/05/shutterstockRF_536469961-22892b19fe80.jpg?w=1200&amp;sharp=10&amp;vib=20\n",
            "[%] File Downloaded !\n",
            "\n",
            "[%] Downloading Image #4 from https://i1.wp.com/www.truebluetravel.co.za/wp-content/uploads/2016/08/maldives-beaches.jpg?fit=1920%2C1080&amp;ssl=1\n",
            "[%] File Downloaded !\n",
            "\n",
            "[%] Downloading Image #5 from https://floridatrippers.com/wp-content/uploads/2020/10/best-beaches-in-clearwater-and-st-petersburg-florida-caladesi-island-1024x597.jpg\n",
            "[%] File Downloaded !\n",
            "\n",
            "[%] Downloading Image #6 from https://i.pinimg.com/originals/c6/5b/03/c65b031bbc3b403a75ce98199de2134e.jpg\n",
            "[%] File Downloaded !\n",
            "\n",
            "[%] Downloading Image #7 from https://i.pinimg.com/originals/ba/66/dd/ba66dd816728cac0a4e8f3e31d3d4fb4.jpg\n",
            "[%] File Downloaded !\n",
            "\n",
            "[%] Downloading Image #8 from https://i.pinimg.com/originals/8f/89/9e/8f899edf0954ed4ac1fa66c35015fbe0.jpg\n",
            "[%] File Downloaded !\n",
            "\n",
            "[%] Downloading Image #9 from https://i.pinimg.com/originals/62/f6/da/62f6da319d4478720d1dbcf0540f2a7c.jpg\n",
            "[%] File Downloaded !\n",
            "\n",
            "[%] Downloading Image #10 from https://i.pinimg.com/originals/3f/1b/92/3f1b92d6b412d84caabb1e5939fe52ba.jpg\n",
            "[%] File Downloaded !\n",
            "\n",
            "[%] Downloading Image #11 from https://www.followmeaway.com/wp-content/uploads/2020/02/Amalfi-Coast-Beaches-Minori-scaled.jpg\n",
            "[%] File Downloaded !\n",
            "\n",
            "[%] Downloading Image #12 from https://i.pinimg.com/originals/df/4d/a4/df4da4400fcbbc2fa1b99762d2fd1f77.jpg\n",
            "[%] File Downloaded !\n",
            "\n",
            "[%] Downloading Image #13 from http://thetrueibiza.weebly.com/uploads/5/1/9/6/51961895/4056917.png?378\n",
            "[%] File Downloaded !\n",
            "\n",
            "[%] Downloading Image #14 from https://i.pinimg.com/originals/da/8f/c4/da8fc4ba440e3a62176ca7a03ff3af68.jpg\n",
            "[%] File Downloaded !\n",
            "\n",
            "[%] Downloading Image #15 from https://i.pinimg.com/originals/6f/09/82/6f0982b6c4d010eee9dd065209154db7.jpg\n",
            "[%] File Downloaded !\n",
            "\n",
            "[%] Downloading Image #16 from https://i.pinimg.com/originals/a7/3f/7c/a73f7cc3c9395a4e4874d0450e7eb49d.jpg\n",
            "[%] File Downloaded !\n",
            "\n",
            "[%] Downloading Image #17 from https://i.pinimg.com/originals/c7/00/bd/c700bd514207c4e170440f89e431deb4.jpg\n",
            "[%] File Downloaded !\n",
            "\n",
            "[%] Downloading Image #18 from https://s3-ap-southeast-2.amazonaws.com/wp-content.for.truelocal.com.au/prod/wordpress/wp-content/uploads/2016/11/BRIS_CurrumbinBeach.jpg\n",
            "[%] File Downloaded !\n",
            "\n",
            "[%] Downloading Image #19 from https://www.tripcentral.ca/blog/wp-content/uploads/2018/08/tripcentral-best-beaches-cuba-playa-sirena.jpg\n",
            "[%] File Downloaded !\n",
            "\n",
            "[%] Downloading Image #20 from http://www.businessdestinations.com/wp-content/uploads/2014/02/Statia-820x615.jpg\n",
            "[%] File Downloaded !\n",
            "\n",
            "[%] Downloading Image #21 from https://i.pinimg.com/originals/e3/20/2e/e3202e890ca8103dcfd1f184dfc773ef.jpg\n",
            "[%] File Downloaded !\n",
            "\n",
            "[%] Downloading Image #22 from https://s3-ap-southeast-2.amazonaws.com/wp-content.for.truelocal.com.au/prod/wordpress/wp-content/uploads/2016/11/Perth_Bailey-Street-Beach.jpg\n",
            "[%] File Downloaded !\n",
            "\n",
            "[%] Downloading Image #23 from https://www.hikerwolf.com/wp-content/uploads/2019/09/69277751_390684328314449_1133321421637696680_n2-1.jpg\n",
            "[%] File Downloaded !\n",
            "\n",
            "[%] Downloading Image #24 from https://sm.askmen.com/askmen_in/article/t/true-nature-water-beaches/true-nature-water-beaches_89b9.jpg\n",
            "[%] File Downloaded !\n",
            "\n",
            "[%] Downloading Image #25 from http://blog.tripinview.com/wp-content/uploads/2019/05/north-cyprus-beach.jpg\n",
            "[%] File Downloaded !\n",
            "\n",
            "[%] Downloading Image #26 from https://newywithkids.com.au/wp-content/uploads/2016/03/Newcastle-Beach-1.jpg\n",
            "[%] File Downloaded !\n",
            "\n",
            "[%] Downloading Image #27 from http://www.nothingfamiliar.com/wp-content/uploads/2016/06/Rare-Beaches-1440x1080.jpg\n",
            "[%] File Downloaded !\n",
            "\n",
            "[%] Downloading Image #28 from https://i.pinimg.com/originals/f3/13/6e/f3136ee96f49e25c1a0564a8909174a1.jpg\n",
            "[%] File Downloaded !\n",
            "\n",
            "[%] Downloading Image #29 from https://i.pinimg.com/originals/34/fd/5d/34fd5d0570758e857a9d408dfebe6f08.jpg\n",
            "[%] File Downloaded !\n",
            "\n",
            "[%] Downloading Image #30 from http://thetrueibiza.weebly.com/uploads/5/1/9/6/51961895/9957455_orig.png\n",
            "[%] File Downloaded !\n",
            "\n",
            "[%] Downloading Image #31 from https://www.fodors.com/wp-content/uploads/2020/03/01_BestBeachesFrenchRiviera__PlageDeLaSalis_dreamstime_xxl_86081419.jpg\n",
            "[%] File Downloaded !\n",
            "\n",
            "[%] Downloading Image #32 from https://i.pinimg.com/originals/06/1e/f2/061ef289d5c41f99b8395dbabaafc009.jpg\n",
            "[%] File Downloaded !\n",
            "\n",
            "[%] Downloading Image #33 from https://i.pinimg.com/originals/31/16/46/311646b38719b055d065e3a7fb279256.jpg\n",
            "[%] File Downloaded !\n",
            "\n",
            "[%] Downloading Image #34 from https://i.pinimg.com/originals/15/8d/7e/158d7ea02e3c4df695aa858d27d81201.jpg\n",
            "[%] File Downloaded !\n",
            "\n",
            "[%] Downloading Image #35 from https://s3.ap-southeast-2.amazonaws.com/wp-content.for.truelocal.com.au/prod/wordpress/wp-content/uploads/2016/11/Perth_YanchepLagoonBeach.jpg\n",
            "[%] File Downloaded !\n",
            "\n",
            "[%] Downloading Image #36 from http://www.wheresthegringo.com/wp-content/uploads/2015/06/DSC092651.jpg\n",
            "[%] File Downloaded !\n",
            "\n",
            "[%] Downloading Image #37 from http://www.tongaholiday.com/wp-content/uploads/2014/04/slider-beaches6.jpg\n",
            "[%] File Downloaded !\n",
            "\n",
            "[%] Downloading Image #38 from https://i.pinimg.com/originals/bc/41/0f/bc410f08bdf6ad94c4f96efaa2dec499.jpg\n",
            "[%] File Downloaded !\n",
            "\n",
            "[%] Downloading Image #39 from http://thetrueibiza.weebly.com/uploads/5/1/9/6/51961895/6953592.jpg?380\n",
            "[%] File Downloaded !\n",
            "\n",
            "[%] Downloading Image #40 from http://worlds-exotic-beaches.com/wp-content/uploads/2015/08/True-Blue-Beach.jpg\n",
            "[%] File Downloaded !\n",
            "\n",
            "[%] Downloading Image #41 from https://3.bp.blogspot.com/-GXe6nYxfP4s/Tp_Hf0n2GgI/AAAAAAAABz4/bu3oCDAEKXc/s1600/beach.jpg\n",
            "[%] File Downloaded !\n",
            "\n",
            "[%] Downloading Image #42 from https://i.pinimg.com/originals/21/1f/c0/211fc06c3d900679cb2caf6d562908b8.jpg\n",
            "[%] File Downloaded !\n",
            "\n",
            "[%] Downloading Image #43 from https://www.true.travel/wp-content/uploads/2019/10/1523434686.jpg\n",
            "[%] File Downloaded !\n",
            "\n",
            "[%] Downloading Image #44 from https://i.pinimg.com/originals/98/2e/f7/982ef7b29dbee84629e63c87c8a1be34.jpg\n",
            "[%] File Downloaded !\n",
            "\n",
            "[%] Downloading Image #45 from https://i.ytimg.com/vi/C_xp_fRx0WA/maxresdefault.jpg\n",
            "[%] File Downloaded !\n",
            "\n",
            "[%] Downloading Image #46 from https://i.ytimg.com/vi/g7vBsgeJn_4/maxresdefault.jpg\n",
            "[%] File Downloaded !\n",
            "\n",
            "[%] Downloading Image #47 from https://completegetaways.com/wp-content/uploads/2020/03/beaches.jpg\n",
            "[%] File Downloaded !\n",
            "\n",
            "[%] Downloading Image #48 from https://i.ytimg.com/vi/aOd0Fh7x_qE/maxresdefault.jpg\n",
            "[%] File Downloaded !\n",
            "\n",
            "[%] Downloading Image #49 from https://i.ytimg.com/vi/kyHE6ras7Wo/maxresdefault.jpg\n",
            "[%] File Downloaded !\n",
            "\n",
            "[%] Downloading Image #50 from https://img.discogs.com/cu5JRJcTm95BgFW-fw3kom9Vc_A=/fit-in/600x599/filters:strip_icc():format(jpeg):mode_rgb():quality(90)/discogs-images/R-2418714-1283014967.jpeg.jpg\n",
            "[%] File Downloaded !\n",
            "\n",
            "\n",
            "\n",
            "[%] Done. Downloaded 50 images.\n",
            "===============================================\n",
            "\n",
            "Please show your support here\n",
            "https://www.buymeacoffee.com/gurugaurav\n",
            "\n",
            "===============================================\n",
            "\n"
          ],
          "name": "stdout"
        }
      ]
    },
    {
      "cell_type": "code",
      "metadata": {
        "id": "9xJG456i5xB9"
      },
      "source": [
        "#upto this dataset collection is done\n",
        "#next is preprocessing and then building machine learning model"
      ],
      "execution_count": null,
      "outputs": []
    },
    {
      "cell_type": "code",
      "metadata": {
        "colab": {
          "base_uri": "https://localhost:8080/"
        },
        "id": "qPe7lE4T54d1",
        "outputId": "068cac17-aeeb-4520-d402-da611bace1d0"
      },
      "source": [
        "import numpy as np\n",
        "a=np.array([[1,2,3,4,5],\n",
        "            [6,7,8,9,10]]) #np array with 1 dim\n",
        "a.ndim #for finding dim"
      ],
      "execution_count": 10,
      "outputs": [
        {
          "output_type": "execute_result",
          "data": {
            "text/plain": [
              "2"
            ]
          },
          "metadata": {
            "tags": []
          },
          "execution_count": 10
        }
      ]
    },
    {
      "cell_type": "code",
      "metadata": {
        "colab": {
          "base_uri": "https://localhost:8080/"
        },
        "id": "BoszW_Jv563k",
        "outputId": "3cb733b5-3aef-45c3-890c-1ebbddcfcff6"
      },
      "source": [
        "a.flatten()  #convert all dim array to 1 dim\n"
      ],
      "execution_count": 11,
      "outputs": [
        {
          "output_type": "execute_result",
          "data": {
            "text/plain": [
              "array([ 1,  2,  3,  4,  5,  6,  7,  8,  9, 10])"
            ]
          },
          "metadata": {
            "tags": []
          },
          "execution_count": 11
        }
      ]
    },
    {
      "cell_type": "code",
      "metadata": {
        "colab": {
          "base_uri": "https://localhost:8080/"
        },
        "id": "da76xYuA59Xm",
        "outputId": "9748e457-5d04-470a-c718-042ce7ca3301"
      },
      "source": [
        "#preprocessing\n",
        "import os  #for going from one to another folder\n",
        "import matplotlib.pyplot as plt #for putting graph\n",
        "import numpy as np  #for number computing\n",
        "from skimage.io import imread #for reading an img\n",
        "from skimage.transform  import resize #for resizing\n",
        "\n",
        "target=[]#empty list for op\n",
        "images=[]#dataset\n",
        "flat_data=[]#preprocessed as flatted\n",
        "\n",
        "#DATADIR is used for img path to be given\n",
        "DATADIR = '/content/newimages' #give''\n",
        "CATAGORIES = ['beaches','motor bikes','pandas']#list of categories\n",
        "for i in CATAGORIES:  \n",
        "  class_num=CATAGORIES.index(i)#for labelling categ to index\n",
        "  path= os.path.join(DATADIR,i)#creating path to use all imgs ospathjoin joins 2 things\n",
        "  for img in os.listdir(path): #creating a list of path\n",
        "    img_array= imread(os.path.join(path,img,))\n",
        "    #print(img_array.shape)\n",
        "    #plt.imshow(img_array)\n",
        "    img_resized=resize(img_array,(150,150,3))#resizing all to the given size, confirm it normalizes\n",
        "    flat_data.append(img_resized.flatten())\n",
        "    images.append(img_resized)\n",
        "    target.append(class_num)\n",
        "\n",
        "#convert flat data to np array flat datA\n",
        "flat_data=np.array(flat_data)\n",
        "images=np.array(images)\n",
        "target=np.array(target)\n",
        "\n",
        "  "
      ],
      "execution_count": 12,
      "outputs": [
        {
          "output_type": "stream",
          "text": [
            "/usr/local/lib/python3.7/dist-packages/PIL/TiffImagePlugin.py:788: UserWarning: Corrupt EXIF data.  Expecting to read 4 bytes but only got 0. \n",
            "  warnings.warn(str(msg))\n"
          ],
          "name": "stderr"
        }
      ]
    },
    {
      "cell_type": "code",
      "metadata": {
        "colab": {
          "base_uri": "https://localhost:8080/"
        },
        "id": "LB5ITEA56DjN",
        "outputId": "79a1064b-996a-4283-f15e-11388cd8f104"
      },
      "source": [
        "flat_data[0] #to confirm normalising op should be 0-1"
      ],
      "execution_count": 13,
      "outputs": [
        {
          "output_type": "execute_result",
          "data": {
            "text/plain": [
              "array([0.29764706, 0.20670588, 0.07803922, ..., 0.56      , 0.51686275,\n",
              "       0.57882353])"
            ]
          },
          "metadata": {
            "tags": []
          },
          "execution_count": 13
        }
      ]
    },
    {
      "cell_type": "code",
      "metadata": {
        "colab": {
          "base_uri": "https://localhost:8080/",
          "height": 282
        },
        "id": "HSLxvo6K646p",
        "outputId": "1f7d1737-2d10-4171-89da-7f66aa03cc74"
      },
      "source": [
        "#plot a graph\n",
        "unique,count= np.unique(target,return_counts=True)\n",
        "plt.bar(CATAGORIES,count)"
      ],
      "execution_count": 14,
      "outputs": [
        {
          "output_type": "execute_result",
          "data": {
            "text/plain": [
              "<BarContainer object of 3 artists>"
            ]
          },
          "metadata": {
            "tags": []
          },
          "execution_count": 14
        },
        {
          "output_type": "display_data",
          "data": {
            "image/png": "[encoded data removed]",
            "text/plain": [
              "<Figure size 432x288 with 1 Axes>"
            ]
          },
          "metadata": {
            "tags": [],
            "needs_background": "light"
          }
        }
      ]
    },
    {
      "cell_type": "code",
      "metadata": {
        "id": "pHC4L5GL7Csq"
      },
      "source": [
        "#split data into training and testing\n",
        "from sklearn.model_selection import train_test_split\n",
        "x_train,x_test,y_train,y_test =train_test_split(flat_data,target,test_size=0.3,random_state=109)"
      ],
      "execution_count": 15,
      "outputs": []
    },
    {
      "cell_type": "code",
      "metadata": {
        "colab": {
          "base_uri": "https://localhost:8080/"
        },
        "id": "3sdgYe6H7GfK",
        "outputId": "7bcb494f-9d83-4b33-c876-b35f3ce51694"
      },
      "source": [
        "#classification usinng classification algorithm (here using svm from sklearn)\n",
        "from sklearn.model_selection import GridSearchCV\n",
        "from sklearn import svm #svm-support vector machine\n",
        "param_grid=[\n",
        "            {'C':[1,10,100,1000],'kernel':['linear']},\n",
        "            {'C':[1,10,100,1000],'gamma':[0.001,0.0001],'kernel':['rbf']},\n",
        "]\n",
        "svc=svm.SVC(probability=True)#by default its false\n",
        "clf= GridSearchCV(svc,param_grid)\n",
        "clf.fit(x_train,y_train)"
      ],
      "execution_count": 16,
      "outputs": [
        {
          "output_type": "execute_result",
          "data": {
            "text/plain": [
              "GridSearchCV(cv=None, error_score=nan,\n",
              "             estimator=SVC(C=1.0, break_ties=False, cache_size=200,\n",
              "                           class_weight=None, coef0=0.0,\n",
              "                           decision_function_shape='ovr', degree=3,\n",
              "                           gamma='scale', kernel='rbf', max_iter=-1,\n",
              "                           probability=True, random_state=None, shrinking=True,\n",
              "                           tol=0.001, verbose=False),\n",
              "             iid='deprecated', n_jobs=None,\n",
              "             param_grid=[{'C': [1, 10, 100, 1000], 'kernel': ['linear']},\n",
              "                         {'C': [1, 10, 100, 1000], 'gamma': [0.001, 0.0001],\n",
              "                          'kernel': ['rbf']}],\n",
              "             pre_dispatch='2*n_jobs', refit=True, return_train_score=False,\n",
              "             scoring=None, verbose=0)"
            ]
          },
          "metadata": {
            "tags": []
          },
          "execution_count": 16
        }
      ]
    },
    {
      "cell_type": "code",
      "metadata": {
        "colab": {
          "base_uri": "https://localhost:8080/"
        },
        "id": "uc4zhIlc7Ngf",
        "outputId": "0a39a114-3ff7-4284-9c2d-42d1349a9666"
      },
      "source": [
        "#to check whether accuracyy is correct or not\n",
        "y_pred =clf.predict(x_test)\n",
        "y_pred"
      ],
      "execution_count": 17,
      "outputs": [
        {
          "output_type": "execute_result",
          "data": {
            "text/plain": [
              "array([2, 2, 2, 0, 0, 1, 0, 2, 1, 1, 2, 0, 1, 0, 0, 0, 1, 1, 0, 1, 1, 0,\n",
              "       2, 0, 0, 1, 0, 1, 2, 2, 2, 2, 1, 0, 1, 2, 0, 2, 2, 1, 1, 1, 1, 2,\n",
              "       0])"
            ]
          },
          "metadata": {
            "tags": []
          },
          "execution_count": 17
        }
      ]
    },
    {
      "cell_type": "code",
      "metadata": {
        "colab": {
          "base_uri": "https://localhost:8080/"
        },
        "id": "gpP7_N5D8tF-",
        "outputId": "961bd4b1-68eb-4ade-d6e1-54da9e102d83"
      },
      "source": [
        "y_test #ypred vs ytest accuracy checking"
      ],
      "execution_count": 18,
      "outputs": [
        {
          "output_type": "execute_result",
          "data": {
            "text/plain": [
              "array([2, 1, 2, 0, 2, 1, 0, 2, 1, 2, 2, 0, 1, 0, 0, 0, 1, 2, 0, 1, 1, 0,\n",
              "       2, 0, 0, 1, 2, 1, 1, 2, 1, 2, 1, 2, 2, 1, 0, 2, 2, 1, 1, 1, 1, 2,\n",
              "       0])"
            ]
          },
          "metadata": {
            "tags": []
          },
          "execution_count": 18
        }
      ]
    },
    {
      "cell_type": "code",
      "metadata": {
        "id": "K7Aqamva8wJV"
      },
      "source": [
        "from sklearn.metrics import accuracy_score,confusion_matrix"
      ],
      "execution_count": 19,
      "outputs": []
    },
    {
      "cell_type": "code",
      "metadata": {
        "colab": {
          "base_uri": "https://localhost:8080/"
        },
        "id": "yCcj6P-z8yqs",
        "outputId": "a67fe6b3-1e44-42b6-d3b4-515bc168efc6"
      },
      "source": [
        "accuracy_score(y_pred,y_test) #accuracy checking  7.03% acc detected"
      ],
      "execution_count": 20,
      "outputs": [
        {
          "output_type": "execute_result",
          "data": {
            "text/plain": [
              "0.7777777777777778"
            ]
          },
          "metadata": {
            "tags": []
          },
          "execution_count": 20
        }
      ]
    },
    {
      "cell_type": "code",
      "metadata": {
        "colab": {
          "base_uri": "https://localhost:8080/"
        },
        "id": "szYsSdkm833C",
        "outputId": "49685bc3-2819-4c90-b188-2dba3dc2401f"
      },
      "source": [
        "confusion_matrix(y_pred,y_test)    #(all values except main diagonal are error)"
      ],
      "execution_count": 21,
      "outputs": [
        {
          "output_type": "execute_result",
          "data": {
            "text/plain": [
              "array([[12,  0,  3],\n",
              "       [ 0, 13,  3],\n",
              "       [ 0,  4, 10]])"
            ]
          },
          "metadata": {
            "tags": []
          },
          "execution_count": 21
        }
      ]
    },
    {
      "cell_type": "code",
      "metadata": {
        "id": "daXJg6Td88Dk"
      },
      "source": [
        "#save the model using pickle library as we are going to test with new img all these process can't be done once again\n",
        "import pickle\n",
        "pickle.dump(clf,open('img_model.p','wb'))  #write  saved as pickle for reducing running time"
      ],
      "execution_count": 24,
      "outputs": []
    },
    {
      "cell_type": "code",
      "metadata": {
        "id": "tCyWC9_y9BCn"
      },
      "source": [
        "model= pickle.load(open('img_model.p','rb'))  #readingbite"
      ],
      "execution_count": 25,
      "outputs": []
    },
    {
      "cell_type": "code",
      "metadata": {
        "colab": {
          "base_uri": "https://localhost:8080/",
          "height": 320
        },
        "id": "JaOJGFmG9Gkb",
        "outputId": "61347df2-a459-49ed-b33b-742f2d475a68"
      },
      "source": [
        "#testing a new img\n",
        "flat_data=[]\n",
        "url= input('Enter your url')\n",
        "img = imread(url)\n",
        "img_resized = resize(img,(150,150,3))\n",
        "flat_data.append(img_resized.flatten())\n",
        "flat_data =np.array(flat_data)\n",
        "print(img.shape)\n",
        "plt.imshow(img_resized)\n",
        "y_out= model.predict(flat_data)#output\n",
        "y_out = CATAGORIES[y_out[0]] #y[0] given to give only 1d\n",
        "print(f' Predicted output: {y_out}')\n"
      ],
      "execution_count": 26,
      "outputs": [
        {
          "output_type": "stream",
          "text": [
            "Enter your urlhttps://encrypted-tbn0.gstatic.com/images?q=tbn:ANd9GcSnUDGCaqvI2e7sM2F1pQaNev_q1XntYs2RQg&usqp=CAU\n",
            "(209, 242, 3)\n",
            " Predicted output: pandas\n"
          ],
          "name": "stdout"
        },
        {
          "output_type": "display_data",
          "data": {
            "image/png": "[encoded data removed]",
            "text/plain": [
              "<Figure size 432x288 with 1 Axes>"
            ]
          },
          "metadata": {
            "tags": [],
            "needs_background": "light"
          }
        }
      ]
    },
    {
      "cell_type": "code",
      "metadata": {
        "colab": {
          "base_uri": "https://localhost:8080/"
        },
        "id": "ZKPYUBCs9QS_",
        "outputId": "8d909ed8-9205-40da-db03-74165d6ef5bc"
      },
      "source": [
        "!pip install streamlit\n",
        "\n",
        "!pip install pyngrok\n",
        "from pyngrok import ngrok"
      ],
      "execution_count": 35,
      "outputs": [
        {
          "output_type": "stream",
          "text": [
            "Requirement already satisfied: streamlit in /usr/local/lib/python3.7/dist-packages (0.83.0)\n",
            "Requirement already satisfied: base58 in /usr/local/lib/python3.7/dist-packages (from streamlit) (2.1.0)\n",
            "Requirement already satisfied: astor in /usr/local/lib/python3.7/dist-packages (from streamlit) (0.8.1)\n",
            "Requirement already satisfied: watchdog; platform_system != \"Darwin\" in /usr/local/lib/python3.7/dist-packages (from streamlit) (2.1.2)\n",
            "Requirement already satisfied: protobuf!=3.11,>=3.6.0 in /usr/local/lib/python3.7/dist-packages (from streamlit) (3.12.4)\n",
            "Requirement already satisfied: pydeck>=0.1.dev5 in /usr/local/lib/python3.7/dist-packages (from streamlit) (0.6.2)\n",
            "Requirement already satisfied: cachetools>=4.0 in /usr/local/lib/python3.7/dist-packages (from streamlit) (4.2.2)\n",
            "Requirement already satisfied: numpy in /usr/local/lib/python3.7/dist-packages (from streamlit) (1.19.5)\n",
            "Requirement already satisfied: tzlocal in /usr/local/lib/python3.7/dist-packages (from streamlit) (1.5.1)\n",
            "Requirement already satisfied: gitpython in /usr/local/lib/python3.7/dist-packages (from streamlit) (3.1.18)\n",
            "Requirement already satisfied: requests in /usr/local/lib/python3.7/dist-packages (from streamlit) (2.23.0)\n",
            "Requirement already satisfied: pandas>=0.21.0 in /usr/local/lib/python3.7/dist-packages (from streamlit) (1.1.5)\n",
            "Requirement already satisfied: packaging in /usr/local/lib/python3.7/dist-packages (from streamlit) (20.9)\n",
            "Requirement already satisfied: click<8.0,>=7.0 in /usr/local/lib/python3.7/dist-packages (from streamlit) (7.1.2)\n",
            "Requirement already satisfied: python-dateutil in /usr/local/lib/python3.7/dist-packages (from streamlit) (2.8.1)\n",
            "Requirement already satisfied: blinker in /usr/local/lib/python3.7/dist-packages (from streamlit) (1.4)\n",
            "Requirement already satisfied: pyarrow; python_version < \"3.9\" in /usr/local/lib/python3.7/dist-packages (from streamlit) (3.0.0)\n",
            "Requirement already satisfied: altair>=3.2.0 in /usr/local/lib/python3.7/dist-packages (from streamlit) (4.1.0)\n",
            "Requirement already satisfied: pillow>=6.2.0 in /usr/local/lib/python3.7/dist-packages (from streamlit) (7.1.2)\n",
            "Requirement already satisfied: validators in /usr/local/lib/python3.7/dist-packages (from streamlit) (0.18.2)\n",
            "Requirement already satisfied: tornado>=5.0 in /usr/local/lib/python3.7/dist-packages (from streamlit) (5.1.1)\n",
            "Requirement already satisfied: toml in /usr/local/lib/python3.7/dist-packages (from streamlit) (0.10.2)\n",
            "Requirement already satisfied: six>=1.9 in /usr/local/lib/python3.7/dist-packages (from protobuf!=3.11,>=3.6.0->streamlit) (1.15.0)\n",
            "Requirement already satisfied: setuptools in /usr/local/lib/python3.7/dist-packages (from protobuf!=3.11,>=3.6.0->streamlit) (57.0.0)\n",
            "Requirement already satisfied: ipykernel>=5.1.2; python_version >= \"3.4\" in /usr/local/lib/python3.7/dist-packages (from pydeck>=0.1.dev5->streamlit) (5.5.5)\n",
            "Requirement already satisfied: ipywidgets>=7.0.0 in /usr/local/lib/python3.7/dist-packages (from pydeck>=0.1.dev5->streamlit) (7.6.3)\n",
            "Requirement already satisfied: jinja2>=2.10.1 in /usr/local/lib/python3.7/dist-packages (from pydeck>=0.1.dev5->streamlit) (2.11.3)\n",
            "Requirement already satisfied: traitlets>=4.3.2 in /usr/local/lib/python3.7/dist-packages (from pydeck>=0.1.dev5->streamlit) (5.0.5)\n",
            "Requirement already satisfied: pytz in /usr/local/lib/python3.7/dist-packages (from tzlocal->streamlit) (2018.9)\n",
            "Requirement already satisfied: gitdb<5,>=4.0.1 in /usr/local/lib/python3.7/dist-packages (from gitpython->streamlit) (4.0.7)\n",
            "Requirement already satisfied: typing-extensions>=3.7.4.0; python_version < \"3.8\" in /usr/local/lib/python3.7/dist-packages (from gitpython->streamlit) (3.7.4.3)\n",
            "Requirement already satisfied: idna<3,>=2.5 in /usr/local/lib/python3.7/dist-packages (from requests->streamlit) (2.10)\n",
            "Requirement already satisfied: urllib3!=1.25.0,!=1.25.1,<1.26,>=1.21.1 in /usr/local/lib/python3.7/dist-packages (from requests->streamlit) (1.24.3)\n",
            "Requirement already satisfied: chardet<4,>=3.0.2 in /usr/local/lib/python3.7/dist-packages (from requests->streamlit) (3.0.4)\n",
            "Requirement already satisfied: certifi>=2017.4.17 in /usr/local/lib/python3.7/dist-packages (from requests->streamlit) (2021.5.30)\n",
            "Requirement already satisfied: pyparsing>=2.0.2 in /usr/local/lib/python3.7/dist-packages (from packaging->streamlit) (2.4.7)\n",
            "Requirement already satisfied: jsonschema in /usr/local/lib/python3.7/dist-packages (from altair>=3.2.0->streamlit) (2.6.0)\n",
            "Requirement already satisfied: toolz in /usr/local/lib/python3.7/dist-packages (from altair>=3.2.0->streamlit) (0.11.1)\n",
            "Requirement already satisfied: entrypoints in /usr/local/lib/python3.7/dist-packages (from altair>=3.2.0->streamlit) (0.3)\n",
            "Requirement already satisfied: decorator>=3.4.0 in /usr/local/lib/python3.7/dist-packages (from validators->streamlit) (4.4.2)\n",
            "Requirement already satisfied: ipython>=5.0.0 in /usr/local/lib/python3.7/dist-packages (from ipykernel>=5.1.2; python_version >= \"3.4\"->pydeck>=0.1.dev5->streamlit) (5.5.0)\n",
            "Requirement already satisfied: jupyter-client in /usr/local/lib/python3.7/dist-packages (from ipykernel>=5.1.2; python_version >= \"3.4\"->pydeck>=0.1.dev5->streamlit) (5.3.5)\n",
            "Requirement already satisfied: widgetsnbextension~=3.5.0 in /usr/local/lib/python3.7/dist-packages (from ipywidgets>=7.0.0->pydeck>=0.1.dev5->streamlit) (3.5.1)\n",
            "Requirement already satisfied: nbformat>=4.2.0 in /usr/local/lib/python3.7/dist-packages (from ipywidgets>=7.0.0->pydeck>=0.1.dev5->streamlit) (5.1.3)\n",
            "Requirement already satisfied: jupyterlab-widgets>=1.0.0; python_version >= \"3.6\" in /usr/local/lib/python3.7/dist-packages (from ipywidgets>=7.0.0->pydeck>=0.1.dev5->streamlit) (1.0.0)\n",
            "Requirement already satisfied: MarkupSafe>=0.23 in /usr/local/lib/python3.7/dist-packages (from jinja2>=2.10.1->pydeck>=0.1.dev5->streamlit) (2.0.1)\n",
            "Requirement already satisfied: ipython-genutils in /usr/local/lib/python3.7/dist-packages (from traitlets>=4.3.2->pydeck>=0.1.dev5->streamlit) (0.2.0)\n",
            "Requirement already satisfied: smmap<5,>=3.0.1 in /usr/local/lib/python3.7/dist-packages (from gitdb<5,>=4.0.1->gitpython->streamlit) (4.0.0)\n",
            "Requirement already satisfied: pexpect; sys_platform != \"win32\" in /usr/local/lib/python3.7/dist-packages (from ipython>=5.0.0->ipykernel>=5.1.2; python_version >= \"3.4\"->pydeck>=0.1.dev5->streamlit) (4.8.0)\n",
            "Requirement already satisfied: pickleshare in /usr/local/lib/python3.7/dist-packages (from ipython>=5.0.0->ipykernel>=5.1.2; python_version >= \"3.4\"->pydeck>=0.1.dev5->streamlit) (0.7.5)\n",
            "Requirement already satisfied: simplegeneric>0.8 in /usr/local/lib/python3.7/dist-packages (from ipython>=5.0.0->ipykernel>=5.1.2; python_version >= \"3.4\"->pydeck>=0.1.dev5->streamlit) (0.8.1)\n",
            "Requirement already satisfied: pygments in /usr/local/lib/python3.7/dist-packages (from ipython>=5.0.0->ipykernel>=5.1.2; python_version >= \"3.4\"->pydeck>=0.1.dev5->streamlit) (2.6.1)\n",
            "Requirement already satisfied: prompt-toolkit<2.0.0,>=1.0.4 in /usr/local/lib/python3.7/dist-packages (from ipython>=5.0.0->ipykernel>=5.1.2; python_version >= \"3.4\"->pydeck>=0.1.dev5->streamlit) (1.0.18)\n",
            "Requirement already satisfied: pyzmq>=13 in /usr/local/lib/python3.7/dist-packages (from jupyter-client->ipykernel>=5.1.2; python_version >= \"3.4\"->pydeck>=0.1.dev5->streamlit) (22.1.0)\n",
            "Requirement already satisfied: jupyter-core>=4.6.0 in /usr/local/lib/python3.7/dist-packages (from jupyter-client->ipykernel>=5.1.2; python_version >= \"3.4\"->pydeck>=0.1.dev5->streamlit) (4.7.1)\n",
            "Requirement already satisfied: notebook>=4.4.1 in /usr/local/lib/python3.7/dist-packages (from widgetsnbextension~=3.5.0->ipywidgets>=7.0.0->pydeck>=0.1.dev5->streamlit) (5.3.1)\n",
            "Requirement already satisfied: ptyprocess>=0.5 in /usr/local/lib/python3.7/dist-packages (from pexpect; sys_platform != \"win32\"->ipython>=5.0.0->ipykernel>=5.1.2; python_version >= \"3.4\"->pydeck>=0.1.dev5->streamlit) (0.7.0)\n",
            "Requirement already satisfied: wcwidth in /usr/local/lib/python3.7/dist-packages (from prompt-toolkit<2.0.0,>=1.0.4->ipython>=5.0.0->ipykernel>=5.1.2; python_version >= \"3.4\"->pydeck>=0.1.dev5->streamlit) (0.2.5)\n",
            "Requirement already satisfied: terminado>=0.8.1 in /usr/local/lib/python3.7/dist-packages (from notebook>=4.4.1->widgetsnbextension~=3.5.0->ipywidgets>=7.0.0->pydeck>=0.1.dev5->streamlit) (0.10.1)\n",
            "Requirement already satisfied: nbconvert in /usr/local/lib/python3.7/dist-packages (from notebook>=4.4.1->widgetsnbextension~=3.5.0->ipywidgets>=7.0.0->pydeck>=0.1.dev5->streamlit) (5.6.1)\n",
            "Requirement already satisfied: Send2Trash in /usr/local/lib/python3.7/dist-packages (from notebook>=4.4.1->widgetsnbextension~=3.5.0->ipywidgets>=7.0.0->pydeck>=0.1.dev5->streamlit) (1.5.0)\n",
            "Requirement already satisfied: testpath in /usr/local/lib/python3.7/dist-packages (from nbconvert->notebook>=4.4.1->widgetsnbextension~=3.5.0->ipywidgets>=7.0.0->pydeck>=0.1.dev5->streamlit) (0.5.0)\n",
            "Requirement already satisfied: defusedxml in /usr/local/lib/python3.7/dist-packages (from nbconvert->notebook>=4.4.1->widgetsnbextension~=3.5.0->ipywidgets>=7.0.0->pydeck>=0.1.dev5->streamlit) (0.7.1)\n",
            "Requirement already satisfied: pandocfilters>=1.4.1 in /usr/local/lib/python3.7/dist-packages (from nbconvert->notebook>=4.4.1->widgetsnbextension~=3.5.0->ipywidgets>=7.0.0->pydeck>=0.1.dev5->streamlit) (1.4.3)\n",
            "Requirement already satisfied: mistune<2,>=0.8.1 in /usr/local/lib/python3.7/dist-packages (from nbconvert->notebook>=4.4.1->widgetsnbextension~=3.5.0->ipywidgets>=7.0.0->pydeck>=0.1.dev5->streamlit) (0.8.4)\n",
            "Requirement already satisfied: bleach in /usr/local/lib/python3.7/dist-packages (from nbconvert->notebook>=4.4.1->widgetsnbextension~=3.5.0->ipywidgets>=7.0.0->pydeck>=0.1.dev5->streamlit) (3.3.0)\n",
            "Requirement already satisfied: webencodings in /usr/local/lib/python3.7/dist-packages (from bleach->nbconvert->notebook>=4.4.1->widgetsnbextension~=3.5.0->ipywidgets>=7.0.0->pydeck>=0.1.dev5->streamlit) (0.5.1)\n",
            "Requirement already satisfied: pyngrok in /usr/local/lib/python3.7/dist-packages (5.0.5)\n",
            "Requirement already satisfied: PyYAML in /usr/local/lib/python3.7/dist-packages (from pyngrok) (3.13)\n"
          ],
          "name": "stdout"
        }
      ]
    },
    {
      "cell_type": "code",
      "metadata": {
        "id": "ejgy_Cj0Fgzg"
      },
      "source": [
        ""
      ],
      "execution_count": null,
      "outputs": []
    }
  ]
}